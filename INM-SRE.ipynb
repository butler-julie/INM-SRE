{
 "cells": [
  {
   "cell_type": "markdown",
   "id": "645fa82b-40e5-4786-92c0-369a55e3aad7",
   "metadata": {},
   "source": [
    "# Coupled Cluster Calculations of Infinite Nuclear Matter in the Complete Basis Limit Using Bayesian Machine Learning\n",
    "## Source Code\n",
    "\n",
    "Date Created: August 17, 2024\n",
    "\n",
    "Last Modified: August 17, 2024"
   ]
  },
  {
   "cell_type": "markdown",
   "id": "0c70a744-2127-41c7-b4ea-7f6aa12f4bc6",
   "metadata": {},
   "source": [
    "## Imports"
   ]
  },
  {
   "cell_type": "code",
   "execution_count": null,
   "id": "7bd288dc-77ff-4656-bc6e-650c4899d562",
   "metadata": {},
   "outputs": [],
   "source": [
    "%%time\n",
    "##############################\n",
    "##          IMPORTS         ##\n",
    "##############################\n",
    "# THIRD PARTY IMPORTS\n",
    "# For arrays\n",
    "import numpy as np\n",
    "# For importing the data set\n",
    "import pandas as pd\n",
    "# For graphing\n",
    "import matplotlib.pyplot as plt\n",
    "# For calculating the r2 score\n",
    "from sklearn.metrics import r2_score\n",
    "\n",
    "##############################\n",
    "##        DIRECTORIES       ##\n",
    "##############################\n",
    "# Directories to find data files and save images\n",
    "data_dir = 'raw_data/\n",
    "images_dir = 'img/'"
   ]
  },
  {
   "cell_type": "markdown",
   "id": "5b288fc8-e0f2-492a-ac28-7e38fd0d07c4",
   "metadata": {},
   "source": [
    "## Figure 1"
   ]
  },
  {
   "cell_type": "markdown",
   "id": "44fe65d2-c640-4870-ba1a-dcb72447a29b",
   "metadata": {},
   "source": [
    "### Left"
   ]
  },
  {
   "cell_type": "markdown",
   "id": "4323bd70-ca90-4cfa-9103-2d7bf547ab3a",
   "metadata": {},
   "source": [
    "### Right"
   ]
  },
  {
   "cell_type": "markdown",
   "id": "6ef92190-7f48-44b7-9473-4cf5e0a63e21",
   "metadata": {},
   "source": [
    "## Figure 2"
   ]
  },
  {
   "cell_type": "markdown",
   "id": "ccdc3635-2267-4100-87c4-fca6dfcd77aa",
   "metadata": {},
   "source": [
    "### Left"
   ]
  },
  {
   "cell_type": "markdown",
   "id": "36a63629-b68a-46d9-85a4-4af94460177f",
   "metadata": {},
   "source": [
    "### Right"
   ]
  },
  {
   "cell_type": "markdown",
   "id": "e9122988-061d-4e5b-b17d-46f069d5eae7",
   "metadata": {},
   "source": [
    "## Figure 3"
   ]
  },
  {
   "cell_type": "code",
   "execution_count": null,
   "id": "0bfa4bc3-2dcb-496e-a410-e8d27f610cea",
   "metadata": {},
   "outputs": [],
   "source": []
  }
 ],
 "metadata": {
  "kernelspec": {
   "display_name": "Python 3 (ipykernel)",
   "language": "python",
   "name": "python3"
  },
  "language_info": {
   "codemirror_mode": {
    "name": "ipython",
    "version": 3
   },
   "file_extension": ".py",
   "mimetype": "text/x-python",
   "name": "python",
   "nbconvert_exporter": "python",
   "pygments_lexer": "ipython3",
   "version": "3.9.6"
  }
 },
 "nbformat": 4,
 "nbformat_minor": 5
}
